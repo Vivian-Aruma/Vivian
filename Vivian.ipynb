{
 "cells": [
  {
   "cell_type": "markdown",
   "metadata": {},
   "source": [
    "#ASSIGNMENT 1"
   ]
  },
  {
   "cell_type": "code",
   "execution_count": 1,
   "metadata": {},
   "outputs": [
    {
     "data": {
      "text/plain": [
       "['This', 'is', 'just', 'a', 'beautiful', 'set', 'of', 'necklace']"
      ]
     },
     "execution_count": 1,
     "metadata": {},
     "output_type": "execute_result"
    }
   ],
   "source": [
    "the_sentence = (\"This is just a beautiful set of necklace\")\n",
    "the_sentence.split()"
   ]
  },
  {
   "cell_type": "code",
   "execution_count": 2,
   "metadata": {},
   "outputs": [],
   "source": [
    "the_sentence_in_words = the_sentence.split"
   ]
  },
  {
   "cell_type": "code",
   "execution_count": 3,
   "metadata": {},
   "outputs": [
    {
     "name": "stdout",
     "output_type": "stream",
     "text": [
      "beautiful\n",
      "beautiful\n",
      "beautiful\n",
      "beautiful\n",
      "beautiful\n"
     ]
    }
   ],
   "source": [
    "count = 0\n",
    "while (count <5):\n",
    "    count = count + 1\n",
    "    print(\"beautiful\")"
   ]
  },
  {
   "cell_type": "code",
   "execution_count": null,
   "metadata": {},
   "outputs": [],
   "source": []
  },
  {
   "cell_type": "code",
   "execution_count": null,
   "metadata": {},
   "outputs": [],
   "source": []
  },
  {
   "cell_type": "markdown",
   "metadata": {},
   "source": [
    "#ASSIGNMENT 2"
   ]
  },
  {
   "cell_type": "code",
   "execution_count": 4,
   "metadata": {},
   "outputs": [
    {
     "name": "stdout",
     "output_type": "stream",
     "text": [
      "Enter the following details if you are aged between 13 and 69 to calculate your BMI\n",
      "\n",
      "Age\n",
      "11\n",
      "\n",
      "Weight in kg:\n",
      "65\n",
      "\n",
      "Height in cm:\n",
      "1.6\n",
      "\n",
      "!You are non eligible. Try again\n"
     ]
    }
   ],
   "source": [
    "print(\"Enter the following details if you are aged between 13 and 69 to calculate your BMI\")\n",
    "\n",
    "print(\"\\nAge\")\n",
    "age = int(input()) # indicate the data type\n",
    "\n",
    "print(\"\\nWeight in kg:\")\n",
    "weight = float(input()) \n",
    "\n",
    "print(\"\\nHeight in cm:\")\n",
    "height = float(input()) \n",
    "\n",
    "if age >12 and age <70: # insert your conditional age bracket\n",
    "\n",
    "    result = bmi(weight, height)  # insert your function\n",
    "    \n",
    "    # to know if you are healthy or not\n",
    "    if result > 25:  \n",
    "        print(f\"\\nYour BMI is: {result} and it shows you are overweight\") \n",
    "    elif result < 18:\n",
    "        print(f\"\\nYour BMI is: {result} and it shows you are underweight\")\n",
    "    else:\n",
    "        print(f\"\\nYour BMI is: {result} and it shows you are healthy :)\")\n",
    "\n",
    "else:\n",
    "    print(\"\\n!You are non eligible. Try again\")"
   ]
  },
  {
   "cell_type": "code",
   "execution_count": null,
   "metadata": {},
   "outputs": [],
   "source": []
  }
 ],
 "metadata": {
  "kernelspec": {
   "display_name": "Python 3",
   "language": "python",
   "name": "python3"
  },
  "language_info": {
   "codemirror_mode": {
    "name": "ipython",
    "version": 3
   },
   "file_extension": ".py",
   "mimetype": "text/x-python",
   "name": "python",
   "nbconvert_exporter": "python",
   "pygments_lexer": "ipython3",
   "version": "3.8.5"
  }
 },
 "nbformat": 4,
 "nbformat_minor": 4
}
